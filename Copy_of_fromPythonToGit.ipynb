{
  "nbformat": 4,
  "nbformat_minor": 0,
  "metadata": {
    "colab": {
      "name": "Copy of fromPythonToGit.ipynb",
      "provenance": [],
      "collapsed_sections": [],
      "include_colab_link": true
    },
    "kernelspec": {
      "name": "python3",
      "display_name": "Python 3"
    }
  },
  "cells": [
    {
      "cell_type": "markdown",
      "metadata": {
        "id": "view-in-github",
        "colab_type": "text"
      },
      "source": [
        "<a href=\"https://colab.research.google.com/github/shp9026/govanalytics/blob/master/Copy_of_fromPythonToGit.ipynb\" target=\"_parent\"><img src=\"https://colab.research.google.com/assets/colab-badge.svg\" alt=\"Open In Colab\"/></a>"
      ]
    },
    {
      "cell_type": "markdown",
      "metadata": {
        "id": "1oyJtInPRdQP",
        "colab_type": "text"
      },
      "source": [
        "**Step one:**\n",
        "\n",
        "Load your data:"
      ]
    },
    {
      "cell_type": "code",
      "metadata": {
        "id": "RFlks96qRYWl",
        "colab_type": "code",
        "colab": {
          "base_uri": "https://localhost:8080/",
          "height": 506
        },
        "outputId": "835aa595-8594-480c-8d2f-118575b9966c"
      },
      "source": [
        "import pandas as pd\n",
        "\n",
        "linkcsv='https://docs.google.com/spreadsheets/d/e/2PACX-1vSB7CwpP8HC2D6c326vci61vYwLkKTqCwhjq6pq49R7JWhPJ9fkLvQbj9_E-ANl0c26kh0XRfSZNCZB/pub?gid=2056565750&single=true&output=csv'\n",
        "#dataExcel=\n",
        "gei = pd.read_csv(linkcsv)\n",
        "gei"
      ],
      "execution_count": 1,
      "outputs": [
        {
          "output_type": "execute_result",
          "data": {
            "text/html": [
              "<div>\n",
              "<style scoped>\n",
              "    .dataframe tbody tr th:only-of-type {\n",
              "        vertical-align: middle;\n",
              "    }\n",
              "\n",
              "    .dataframe tbody tr th {\n",
              "        vertical-align: top;\n",
              "    }\n",
              "\n",
              "    .dataframe thead th {\n",
              "        text-align: right;\n",
              "    }\n",
              "</style>\n",
              "<table border=\"1\" class=\"dataframe\">\n",
              "  <thead>\n",
              "    <tr style=\"text-align: right;\">\n",
              "      <th></th>\n",
              "      <th>Country</th>\n",
              "      <th>1. Opportunity Perception</th>\n",
              "      <th>2. Startup Skills</th>\n",
              "      <th>3. Risk Acceptance</th>\n",
              "      <th>4. Networking</th>\n",
              "      <th>5. Cultural Support</th>\n",
              "      <th>6. Opportunity Startup</th>\n",
              "      <th>7. Technology Absorption</th>\n",
              "      <th>8.Human Capital</th>\n",
              "      <th>9. Competition</th>\n",
              "      <th>10. Product Innovation</th>\n",
              "      <th>11. Process Innovation</th>\n",
              "      <th>12. High Growth</th>\n",
              "      <th>13. Internationalization</th>\n",
              "      <th>14. Risk Capital</th>\n",
              "      <th>ATT</th>\n",
              "      <th>ABT</th>\n",
              "      <th>ASP</th>\n",
              "      <th>GEI</th>\n",
              "      <th>Institutional</th>\n",
              "      <th>Individual</th>\n",
              "    </tr>\n",
              "  </thead>\n",
              "  <tbody>\n",
              "    <tr>\n",
              "      <th>0</th>\n",
              "      <td>United States</td>\n",
              "      <td>0.863913</td>\n",
              "      <td>1.000000</td>\n",
              "      <td>0.968982</td>\n",
              "      <td>0.569423</td>\n",
              "      <td>0.815857</td>\n",
              "      <td>0.848736</td>\n",
              "      <td>0.814248</td>\n",
              "      <td>1.000000</td>\n",
              "      <td>1.000000</td>\n",
              "      <td>0.732926</td>\n",
              "      <td>0.901858</td>\n",
              "      <td>1.000000</td>\n",
              "      <td>1.000000</td>\n",
              "      <td>0.875824</td>\n",
              "      <td>0.799974</td>\n",
              "      <td>0.859570</td>\n",
              "      <td>0.848883</td>\n",
              "      <td>0.836142</td>\n",
              "      <td>0.929956</td>\n",
              "      <td>0.785017</td>\n",
              "    </tr>\n",
              "    <tr>\n",
              "      <th>1</th>\n",
              "      <td>Switzerland</td>\n",
              "      <td>0.776207</td>\n",
              "      <td>0.719183</td>\n",
              "      <td>0.878978</td>\n",
              "      <td>0.532818</td>\n",
              "      <td>0.673481</td>\n",
              "      <td>0.965886</td>\n",
              "      <td>1.000000</td>\n",
              "      <td>0.788799</td>\n",
              "      <td>1.000000</td>\n",
              "      <td>0.833886</td>\n",
              "      <td>0.902376</td>\n",
              "      <td>0.882078</td>\n",
              "      <td>1.000000</td>\n",
              "      <td>1.000000</td>\n",
              "      <td>0.694794</td>\n",
              "      <td>0.863767</td>\n",
              "      <td>0.854856</td>\n",
              "      <td>0.804472</td>\n",
              "      <td>0.937859</td>\n",
              "      <td>0.714785</td>\n",
              "    </tr>\n",
              "    <tr>\n",
              "      <th>2</th>\n",
              "      <td>Canada</td>\n",
              "      <td>0.980981</td>\n",
              "      <td>0.794877</td>\n",
              "      <td>0.708414</td>\n",
              "      <td>0.626041</td>\n",
              "      <td>0.975273</td>\n",
              "      <td>0.998706</td>\n",
              "      <td>0.778703</td>\n",
              "      <td>0.912097</td>\n",
              "      <td>0.676155</td>\n",
              "      <td>0.990695</td>\n",
              "      <td>0.757753</td>\n",
              "      <td>0.559031</td>\n",
              "      <td>0.936417</td>\n",
              "      <td>1.000000</td>\n",
              "      <td>0.778708</td>\n",
              "      <td>0.799273</td>\n",
              "      <td>0.799377</td>\n",
              "      <td>0.792453</td>\n",
              "      <td>0.833132</td>\n",
              "      <td>0.771859</td>\n",
              "    </tr>\n",
              "    <tr>\n",
              "      <th>3</th>\n",
              "      <td>United Kingdom</td>\n",
              "      <td>0.809624</td>\n",
              "      <td>0.572861</td>\n",
              "      <td>0.876081</td>\n",
              "      <td>0.618592</td>\n",
              "      <td>0.928304</td>\n",
              "      <td>0.925414</td>\n",
              "      <td>1.000000</td>\n",
              "      <td>0.742075</td>\n",
              "      <td>0.847770</td>\n",
              "      <td>0.923683</td>\n",
              "      <td>0.700565</td>\n",
              "      <td>0.849722</td>\n",
              "      <td>0.824039</td>\n",
              "      <td>0.648999</td>\n",
              "      <td>0.736106</td>\n",
              "      <td>0.833053</td>\n",
              "      <td>0.763470</td>\n",
              "      <td>0.777543</td>\n",
              "      <td>0.893611</td>\n",
              "      <td>0.704261</td>\n",
              "    </tr>\n",
              "    <tr>\n",
              "      <th>4</th>\n",
              "      <td>Australia</td>\n",
              "      <td>0.946781</td>\n",
              "      <td>1.000000</td>\n",
              "      <td>0.717006</td>\n",
              "      <td>0.698116</td>\n",
              "      <td>0.782228</td>\n",
              "      <td>0.870886</td>\n",
              "      <td>0.780436</td>\n",
              "      <td>0.949942</td>\n",
              "      <td>0.567259</td>\n",
              "      <td>0.591692</td>\n",
              "      <td>0.785705</td>\n",
              "      <td>0.657994</td>\n",
              "      <td>0.633143</td>\n",
              "      <td>1.000000</td>\n",
              "      <td>0.791709</td>\n",
              "      <td>0.760215</td>\n",
              "      <td>0.711687</td>\n",
              "      <td>0.754537</td>\n",
              "      <td>0.822215</td>\n",
              "      <td>0.743163</td>\n",
              "    </tr>\n",
              "    <tr>\n",
              "      <th>...</th>\n",
              "      <td>...</td>\n",
              "      <td>...</td>\n",
              "      <td>...</td>\n",
              "      <td>...</td>\n",
              "      <td>...</td>\n",
              "      <td>...</td>\n",
              "      <td>...</td>\n",
              "      <td>...</td>\n",
              "      <td>...</td>\n",
              "      <td>...</td>\n",
              "      <td>...</td>\n",
              "      <td>...</td>\n",
              "      <td>...</td>\n",
              "      <td>...</td>\n",
              "      <td>...</td>\n",
              "      <td>...</td>\n",
              "      <td>...</td>\n",
              "      <td>...</td>\n",
              "      <td>...</td>\n",
              "      <td>...</td>\n",
              "      <td>...</td>\n",
              "    </tr>\n",
              "    <tr>\n",
              "      <th>132</th>\n",
              "      <td>Malawi</td>\n",
              "      <td>0.405478</td>\n",
              "      <td>0.005391</td>\n",
              "      <td>0.028465</td>\n",
              "      <td>0.062287</td>\n",
              "      <td>0.048086</td>\n",
              "      <td>0.243679</td>\n",
              "      <td>0.051075</td>\n",
              "      <td>0.052616</td>\n",
              "      <td>0.242607</td>\n",
              "      <td>0.545547</td>\n",
              "      <td>0.166102</td>\n",
              "      <td>0.018659</td>\n",
              "      <td>0.064683</td>\n",
              "      <td>0.028440</td>\n",
              "      <td>0.095321</td>\n",
              "      <td>0.133888</td>\n",
              "      <td>0.137259</td>\n",
              "      <td>0.122156</td>\n",
              "      <td>0.270035</td>\n",
              "      <td>0.528655</td>\n",
              "    </tr>\n",
              "    <tr>\n",
              "      <th>133</th>\n",
              "      <td>Bangladesh</td>\n",
              "      <td>0.232225</td>\n",
              "      <td>0.038335</td>\n",
              "      <td>0.048619</td>\n",
              "      <td>0.104951</td>\n",
              "      <td>0.213100</td>\n",
              "      <td>0.318919</td>\n",
              "      <td>0.129546</td>\n",
              "      <td>0.127361</td>\n",
              "      <td>0.133595</td>\n",
              "      <td>0.044079</td>\n",
              "      <td>0.144225</td>\n",
              "      <td>0.121364</td>\n",
              "      <td>0.012446</td>\n",
              "      <td>0.070109</td>\n",
              "      <td>0.118155</td>\n",
              "      <td>0.161726</td>\n",
              "      <td>0.075212</td>\n",
              "      <td>0.118365</td>\n",
              "      <td>0.310007</td>\n",
              "      <td>0.386130</td>\n",
              "    </tr>\n",
              "    <tr>\n",
              "      <th>134</th>\n",
              "      <td>Burundi</td>\n",
              "      <td>0.228068</td>\n",
              "      <td>0.043561</td>\n",
              "      <td>0.024286</td>\n",
              "      <td>0.036162</td>\n",
              "      <td>0.104116</td>\n",
              "      <td>0.209997</td>\n",
              "      <td>0.143917</td>\n",
              "      <td>0.133481</td>\n",
              "      <td>0.180934</td>\n",
              "      <td>0.191776</td>\n",
              "      <td>0.073733</td>\n",
              "      <td>0.188112</td>\n",
              "      <td>0.109611</td>\n",
              "      <td>0.043415</td>\n",
              "      <td>0.082682</td>\n",
              "      <td>0.156955</td>\n",
              "      <td>0.115147</td>\n",
              "      <td>0.118262</td>\n",
              "      <td>0.233363</td>\n",
              "      <td>0.565406</td>\n",
              "    </tr>\n",
              "    <tr>\n",
              "      <th>135</th>\n",
              "      <td>Mauritania</td>\n",
              "      <td>0.250201</td>\n",
              "      <td>0.036380</td>\n",
              "      <td>0.024286</td>\n",
              "      <td>0.290686</td>\n",
              "      <td>0.170127</td>\n",
              "      <td>0.047459</td>\n",
              "      <td>0.163463</td>\n",
              "      <td>0.083621</td>\n",
              "      <td>0.072198</td>\n",
              "      <td>0.120103</td>\n",
              "      <td>0.097711</td>\n",
              "      <td>0.151053</td>\n",
              "      <td>0.094006</td>\n",
              "      <td>0.039642</td>\n",
              "      <td>0.141047</td>\n",
              "      <td>0.088592</td>\n",
              "      <td>0.097048</td>\n",
              "      <td>0.108896</td>\n",
              "      <td>0.195673</td>\n",
              "      <td>0.565406</td>\n",
              "    </tr>\n",
              "    <tr>\n",
              "      <th>136</th>\n",
              "      <td>Chad</td>\n",
              "      <td>0.145695</td>\n",
              "      <td>0.024910</td>\n",
              "      <td>0.024286</td>\n",
              "      <td>0.067178</td>\n",
              "      <td>0.104116</td>\n",
              "      <td>0.052822</td>\n",
              "      <td>0.152218</td>\n",
              "      <td>0.101163</td>\n",
              "      <td>0.074489</td>\n",
              "      <td>0.155180</td>\n",
              "      <td>0.099721</td>\n",
              "      <td>0.154423</td>\n",
              "      <td>0.102214</td>\n",
              "      <td>0.041972</td>\n",
              "      <td>0.071019</td>\n",
              "      <td>0.092081</td>\n",
              "      <td>0.106261</td>\n",
              "      <td>0.089787</td>\n",
              "      <td>0.181045</td>\n",
              "      <td>0.565406</td>\n",
              "    </tr>\n",
              "  </tbody>\n",
              "</table>\n",
              "<p>137 rows × 21 columns</p>\n",
              "</div>"
            ],
            "text/plain": [
              "            Country  1. Opportunity Perception  ...  Institutional  Individual\n",
              "0     United States                   0.863913  ...       0.929956    0.785017\n",
              "1       Switzerland                   0.776207  ...       0.937859    0.714785\n",
              "2            Canada                   0.980981  ...       0.833132    0.771859\n",
              "3    United Kingdom                   0.809624  ...       0.893611    0.704261\n",
              "4         Australia                   0.946781  ...       0.822215    0.743163\n",
              "..              ...                        ...  ...            ...         ...\n",
              "132          Malawi                   0.405478  ...       0.270035    0.528655\n",
              "133      Bangladesh                   0.232225  ...       0.310007    0.386130\n",
              "134         Burundi                   0.228068  ...       0.233363    0.565406\n",
              "135      Mauritania                   0.250201  ...       0.195673    0.565406\n",
              "136            Chad                   0.145695  ...       0.181045    0.565406\n",
              "\n",
              "[137 rows x 21 columns]"
            ]
          },
          "metadata": {
            "tags": []
          },
          "execution_count": 1
        }
      ]
    },
    {
      "cell_type": "markdown",
      "metadata": {
        "id": "2lj2KN1aRbwq",
        "colab_type": "text"
      },
      "source": [
        "**Step two:**\n",
        "\n",
        "Clean your data:"
      ]
    },
    {
      "cell_type": "code",
      "metadata": {
        "id": "ePG8hRiLRu3M",
        "colab_type": "code",
        "colab": {
          "base_uri": "https://localhost:8080/",
          "height": 417
        },
        "outputId": "df1006b3-fc3d-4e26-bff2-63b3bd0dc39c"
      },
      "source": [
        "#delete unnecessary rows - only leave Opportunity perception column and country column\n",
        "gei.drop(gei.columns[2::],axis=1, inplace = True)\n",
        "\n",
        "#Remove unnecessary chars and string\n",
        "pattern = '\\\\s+|\\\\d+\\\\.'\n",
        "nothing = ''\n",
        "gei.columns = gei.columns.str.replace(pattern,nothing)\n",
        "\n",
        "\n",
        "#remove all space in string in the Country column\n",
        "gei['Country'] = gei['Country'].str.replace(' ', '')\n",
        "\n",
        "\n",
        "#round the decimal places \n",
        "gei.round(decimals = 3)"
      ],
      "execution_count": 6,
      "outputs": [
        {
          "output_type": "execute_result",
          "data": {
            "text/html": [
              "<div>\n",
              "<style scoped>\n",
              "    .dataframe tbody tr th:only-of-type {\n",
              "        vertical-align: middle;\n",
              "    }\n",
              "\n",
              "    .dataframe tbody tr th {\n",
              "        vertical-align: top;\n",
              "    }\n",
              "\n",
              "    .dataframe thead th {\n",
              "        text-align: right;\n",
              "    }\n",
              "</style>\n",
              "<table border=\"1\" class=\"dataframe\">\n",
              "  <thead>\n",
              "    <tr style=\"text-align: right;\">\n",
              "      <th></th>\n",
              "      <th>Country</th>\n",
              "      <th>OpportunityPerception</th>\n",
              "    </tr>\n",
              "  </thead>\n",
              "  <tbody>\n",
              "    <tr>\n",
              "      <th>0</th>\n",
              "      <td>UnitedStates</td>\n",
              "      <td>0.864</td>\n",
              "    </tr>\n",
              "    <tr>\n",
              "      <th>1</th>\n",
              "      <td>Switzerland</td>\n",
              "      <td>0.776</td>\n",
              "    </tr>\n",
              "    <tr>\n",
              "      <th>2</th>\n",
              "      <td>Canada</td>\n",
              "      <td>0.981</td>\n",
              "    </tr>\n",
              "    <tr>\n",
              "      <th>3</th>\n",
              "      <td>UnitedKingdom</td>\n",
              "      <td>0.810</td>\n",
              "    </tr>\n",
              "    <tr>\n",
              "      <th>4</th>\n",
              "      <td>Australia</td>\n",
              "      <td>0.947</td>\n",
              "    </tr>\n",
              "    <tr>\n",
              "      <th>...</th>\n",
              "      <td>...</td>\n",
              "      <td>...</td>\n",
              "    </tr>\n",
              "    <tr>\n",
              "      <th>132</th>\n",
              "      <td>Malawi</td>\n",
              "      <td>0.405</td>\n",
              "    </tr>\n",
              "    <tr>\n",
              "      <th>133</th>\n",
              "      <td>Bangladesh</td>\n",
              "      <td>0.232</td>\n",
              "    </tr>\n",
              "    <tr>\n",
              "      <th>134</th>\n",
              "      <td>Burundi</td>\n",
              "      <td>0.228</td>\n",
              "    </tr>\n",
              "    <tr>\n",
              "      <th>135</th>\n",
              "      <td>Mauritania</td>\n",
              "      <td>0.250</td>\n",
              "    </tr>\n",
              "    <tr>\n",
              "      <th>136</th>\n",
              "      <td>Chad</td>\n",
              "      <td>0.146</td>\n",
              "    </tr>\n",
              "  </tbody>\n",
              "</table>\n",
              "<p>137 rows × 2 columns</p>\n",
              "</div>"
            ],
            "text/plain": [
              "           Country  OpportunityPerception\n",
              "0     UnitedStates                  0.864\n",
              "1      Switzerland                  0.776\n",
              "2           Canada                  0.981\n",
              "3    UnitedKingdom                  0.810\n",
              "4        Australia                  0.947\n",
              "..             ...                    ...\n",
              "132         Malawi                  0.405\n",
              "133     Bangladesh                  0.232\n",
              "134        Burundi                  0.228\n",
              "135     Mauritania                  0.250\n",
              "136           Chad                  0.146\n",
              "\n",
              "[137 rows x 2 columns]"
            ]
          },
          "metadata": {
            "tags": []
          },
          "execution_count": 6
        }
      ]
    },
    {
      "cell_type": "markdown",
      "metadata": {
        "id": "4ywUkBJQRy6S",
        "colab_type": "text"
      },
      "source": [
        "**Step three:**\n",
        "\n",
        "Format your data:"
      ]
    },
    {
      "cell_type": "code",
      "metadata": {
        "id": "xhlPfoTTRyJ1",
        "colab_type": "code",
        "colab": {
          "base_uri": "https://localhost:8080/",
          "height": 34
        },
        "outputId": "3608ee4b-35c4-4ae8-8772-fb1b7a9ad698"
      },
      "source": [
        "#write code her#check whether there are any non floats in the Opportunity Perception column\n",
        "badSymbols=[]\n",
        "\n",
        "for cell in gei['OpportunityPerception']:\n",
        "    try:\n",
        "        float(cell)\n",
        "    except:\n",
        "        if cell not in badSymbols:\n",
        "            badSymbols.append(cell)\n",
        "                \n",
        "badSymbols #none are non-floats"
      ],
      "execution_count": 9,
      "outputs": [
        {
          "output_type": "execute_result",
          "data": {
            "text/plain": [
              "[]"
            ]
          },
          "metadata": {
            "tags": []
          },
          "execution_count": 9
        }
      ]
    },
    {
      "cell_type": "markdown",
      "metadata": {
        "id": "P9bBF0BbSJum",
        "colab_type": "text"
      },
      "source": [
        "**Step five:**\n",
        "\n",
        "Go to github and create repository for your clean and formatted data."
      ]
    },
    {
      "cell_type": "markdown",
      "metadata": {
        "id": "bZba94hfSZ3R",
        "colab_type": "text"
      },
      "source": [
        "**Step six:**\n",
        "\n",
        "Fill this information to clone the repo from github:"
      ]
    },
    {
      "cell_type": "code",
      "metadata": {
        "id": "QtxSMdutR6Qu",
        "colab_type": "code",
        "outputId": "4e61ae7e-2b44-4b45-f95a-777ec1a2c140",
        "colab": {
          "base_uri": "https://localhost:8080/",
          "height": 34
        }
      },
      "source": [
        "import os\n",
        "from getpass import getpass\n",
        "import urllib\n",
        "\n",
        "user = \"shp9026\"\n",
        "email= \"shp9026@uw.edu\"\n",
        "locationOfRepo= \"github.com/shp9026/govanalytics\"\n",
        "password = getpass('Password: ')"
      ],
      "execution_count": 35,
      "outputs": [
        {
          "output_type": "stream",
          "text": [
            "Password: ··········\n"
          ],
          "name": "stdout"
        }
      ]
    },
    {
      "cell_type": "markdown",
      "metadata": {
        "id": "yE3cOSzSVKQz",
        "colab_type": "text"
      },
      "source": [
        "**Step seven:**\n",
        "\n",
        "Now clone repo:"
      ]
    },
    {
      "cell_type": "code",
      "metadata": {
        "id": "vpwjQplkVK0m",
        "colab_type": "code",
        "outputId": "8dfec80a-a8da-4a2b-d207-a09dce71ea5d",
        "colab": {
          "base_uri": "https://localhost:8080/",
          "height": 34
        }
      },
      "source": [
        "cmd_string1 = 'git config --global user.name {0}'.format(user)\n",
        "os.system(cmd_string1)\n",
        "\n",
        "cmd_string2 = 'git config --global user.email {0}'.format(email)\n",
        "os.system(cmd_string2)\n",
        "\n",
        "password = urllib.parse.quote(password) # your password is converted into url format\n",
        "\n",
        "cmd_string3 = 'git clone https://{0}:{1}@{2}.git'.format(user,password,locationOfRepo)\n",
        "\n",
        "os.system(cmd_string3)"
      ],
      "execution_count": 36,
      "outputs": [
        {
          "output_type": "execute_result",
          "data": {
            "text/plain": [
              "0"
            ]
          },
          "metadata": {
            "tags": []
          },
          "execution_count": 36
        }
      ]
    },
    {
      "cell_type": "markdown",
      "metadata": {
        "id": "xuorxpWzU0Dp",
        "colab_type": "text"
      },
      "source": [
        "**Step eight:**\n",
        "\n",
        "Change folder to save file:"
      ]
    },
    {
      "cell_type": "code",
      "metadata": {
        "id": "VMZrSA4dUPjJ",
        "colab_type": "code",
        "outputId": "4ebbdf49-b8e6-4873-e03b-efe8e039b3de",
        "colab": {
          "base_uri": "https://localhost:8080/",
          "height": 34
        }
      },
      "source": [
        "#write name after %cd\n",
        "%cd govanalytics"
      ],
      "execution_count": 37,
      "outputs": [
        {
          "output_type": "stream",
          "text": [
            "/root/govanalytics\n"
          ],
          "name": "stdout"
        }
      ]
    },
    {
      "cell_type": "markdown",
      "metadata": {
        "id": "8cohxB6wUXG5",
        "colab_type": "text"
      },
      "source": [
        "**Step nine:**\n",
        "\n",
        "Save the files (now in the cloned repo):"
      ]
    },
    {
      "cell_type": "code",
      "metadata": {
        "id": "5vH7GYzgDCiv",
        "colab_type": "code",
        "colab": {}
      },
      "source": [
        "# for Python\n",
        "#gei.to_pickle(\"assignment12.pkl\")"
      ],
      "execution_count": 0,
      "outputs": []
    },
    {
      "cell_type": "code",
      "metadata": {
        "id": "4TieMdJyUcXl",
        "colab_type": "code",
        "outputId": "eac103ff-3fd1-401e-9154-0b14146a5c55",
        "colab": {
          "base_uri": "https://localhost:8080/",
          "height": 34
        }
      },
      "source": [
        "## for R\n",
        "from rpy2.robjects import pandas2ri\n",
        "pandas2ri.activate()\n",
        "\n",
        "from rpy2.robjects.packages import importr\n",
        "\n",
        "base = importr('base')\n",
        "base.saveRDS(gei,file=\"gei.RDS\")\n",
        "#base.saveRDS(gei,file=\"gei.csv\")\n",
        "##"
      ],
      "execution_count": 43,
      "outputs": [
        {
          "output_type": "execute_result",
          "data": {
            "text/plain": [
              "rpy2.rinterface.NULL"
            ]
          },
          "metadata": {
            "tags": []
          },
          "execution_count": 43
        }
      ]
    },
    {
      "cell_type": "markdown",
      "metadata": {
        "id": "9x1eirQGUfhv",
        "colab_type": "text"
      },
      "source": [
        "**Step ten:**\n",
        "\n",
        "Update repo and verify:"
      ]
    },
    {
      "cell_type": "code",
      "metadata": {
        "id": "9OdmsCPGSA4f",
        "colab_type": "code",
        "colab": {
          "base_uri": "https://localhost:8080/",
          "height": 206
        },
        "outputId": "34184eb8-8272-4b0d-fb23-d336d617d972"
      },
      "source": [
        "!git add .\n",
        "!git commit -m 'clean data from Python in colab'  # commit in Colab\n",
        "!git push origin master          # push to github"
      ],
      "execution_count": 44,
      "outputs": [
        {
          "output_type": "stream",
          "text": [
            "[master 50154b6] clean data from Python in colab\n",
            " 2 files changed, 0 insertions(+), 0 deletions(-)\n",
            " create mode 100644 gei.RDS\n",
            " create mode 100644 gei.csv\n",
            "Counting objects: 3, done.\n",
            "Delta compression using up to 2 threads.\n",
            "Compressing objects: 100% (3/3), done.\n",
            "Writing objects: 100% (3/3), 2.92 KiB | 2.92 MiB/s, done.\n",
            "Total 3 (delta 0), reused 0 (delta 0)\n",
            "To https://github.com/shp9026/govanalytics.git\n",
            "   0992dc5..50154b6  master -> master\n"
          ],
          "name": "stdout"
        }
      ]
    },
    {
      "cell_type": "code",
      "metadata": {
        "id": "JkZQrihgZM16",
        "colab_type": "code",
        "colab": {}
      },
      "source": [
        ""
      ],
      "execution_count": 0,
      "outputs": []
    }
  ]
}